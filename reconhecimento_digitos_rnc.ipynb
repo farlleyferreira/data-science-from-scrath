{
  "nbformat": 4,
  "nbformat_minor": 0,
  "metadata": {
    "colab": {
      "name": "kernel9c78c66538.ipynb",
      "version": "0.3.2",
      "provenance": [],
      "collapsed_sections": [],
      "include_colab_link": true
    },
    "language_info": {
      "codemirror_mode": {
        "name": "ipython",
        "version": 3
      },
      "file_extension": ".py",
      "mimetype": "text/x-python",
      "name": "python",
      "nbconvert_exporter": "python",
      "pygments_lexer": "ipython3",
      "version": "3.6.6"
    },
    "kernelspec": {
      "display_name": "Python 3",
      "language": "python",
      "name": "python3"
    }
  },
  "cells": [
    {
      "cell_type": "markdown",
      "metadata": {
        "id": "view-in-github",
        "colab_type": "text"
      },
      "source": [
        "<a href=\"https://colab.research.google.com/github/giovannifarlley/data-science-from-scrath/blob/master/reconhecimento_digitos_rnc.ipynb\" target=\"_parent\"><img src=\"https://colab.research.google.com/assets/colab-badge.svg\" alt=\"Open In Colab\"/></a>"
      ]
    },
    {
      "cell_type": "code",
      "metadata": {
        "_uuid": "6f686b723fc50df23ed8183c1f498d69670a0b21",
        "id": "vEjxh6EDDd45",
        "colab_type": "code",
        "colab": {}
      },
      "source": [
        "from __future__ import print_function\n",
        "import keras\n",
        "import tensorflow as tf\n",
        "import pandas as pd\n",
        "from keras.datasets import mnist\n",
        "from keras.models import Sequential\n",
        "from keras.layers import Dense, Dropout, Flatten\n",
        "from keras.layers import Conv2D, MaxPooling2D\n",
        "from sklearn.model_selection import train_test_split\n",
        "from keras import backend as K\n",
        "import matplotlib.pyplot as plt"
      ],
      "execution_count": 0,
      "outputs": []
    },
    {
      "cell_type": "code",
      "metadata": {
        "id": "rYug6FI4ELZG",
        "colab_type": "code",
        "colab": {
          "base_uri": "https://localhost:8080/",
          "height": 34
        },
        "outputId": "9f5bf4da-3b19-4edf-e8ad-d7cee34c29ff"
      },
      "source": [
        "from google.colab import drive\n",
        "drive.mount('/content/drive')"
      ],
      "execution_count": 8,
      "outputs": [
        {
          "output_type": "stream",
          "text": [
            "Drive already mounted at /content/drive; to attempt to forcibly remount, call drive.mount(\"/content/drive\", force_remount=True).\n"
          ],
          "name": "stdout"
        }
      ]
    },
    {
      "cell_type": "markdown",
      "metadata": {
        "id": "8E8MZWnVEfFv",
        "colab_type": "text"
      },
      "source": [
        "# New Section"
      ]
    },
    {
      "cell_type": "code",
      "metadata": {
        "id": "m6ryWGaODd5D",
        "colab_type": "code",
        "colab": {}
      },
      "source": [
        "tf.logging.set_verbosity(tf.logging.ERROR)"
      ],
      "execution_count": 0,
      "outputs": []
    },
    {
      "cell_type": "code",
      "metadata": {
        "_uuid": "7149363705b39b1188d55e77fb80b04dac45d1e1",
        "id": "LE0o7GyeDd5H",
        "colab_type": "code",
        "colab": {}
      },
      "source": [
        "batch_size = 64\n",
        "num_classes = 10\n",
        "epochs = 18\n",
        "img_rows, img_cols = 36, 36\n",
        "imput_shape = (28, 28, 1)"
      ],
      "execution_count": 0,
      "outputs": []
    },
    {
      "cell_type": "code",
      "metadata": {
        "_uuid": "3139698518aaf290887f2e443a334a72ce065528",
        "id": "mBIW9AzpDd5K",
        "colab_type": "code",
        "colab": {}
      },
      "source": [
        "training = pd.read_csv(\"/content/train.csv\")"
      ],
      "execution_count": 0,
      "outputs": []
    },
    {
      "cell_type": "code",
      "metadata": {
        "_uuid": "a813316ceac8e8de981fa713d765efbed9171c37",
        "id": "Eky8F7ewDd5S",
        "colab_type": "code",
        "colab": {}
      },
      "source": [
        "test = training[\"label\"]\n",
        "training.drop([\"label\"], inplace = True, axis = 1)"
      ],
      "execution_count": 0,
      "outputs": []
    },
    {
      "cell_type": "code",
      "metadata": {
        "_uuid": "f7329f16f401ef40c8c249618b50405be49e9304",
        "id": "ETUj1y-ZDd5Z",
        "colab_type": "code",
        "colab": {}
      },
      "source": [
        "x_train, x_test, y_train, y_test = train_test_split(training.values, test.values, test_size=0.2 , random_state=42)"
      ],
      "execution_count": 0,
      "outputs": []
    },
    {
      "cell_type": "code",
      "metadata": {
        "id": "6fnRPAL7Dd5f",
        "colab_type": "code",
        "colab": {}
      },
      "source": [
        "x_train = x_train.reshape(x_train.shape[0], 28, 28 , 1).astype('float32')\n",
        "x_test = x_test.reshape(x_test.shape[0], 28, 28 , 1).astype('float32')"
      ],
      "execution_count": 0,
      "outputs": []
    },
    {
      "cell_type": "code",
      "metadata": {
        "_uuid": "9a948656a732aa4101cf997faccb3da2f468a47c",
        "id": "9Mr9OqrtDd5i",
        "colab_type": "code",
        "colab": {}
      },
      "source": [
        "x_train /= 255\n",
        "x_test /= 255"
      ],
      "execution_count": 0,
      "outputs": []
    },
    {
      "cell_type": "code",
      "metadata": {
        "_uuid": "a9323a9bcb150d667796e305eca67f97ac90c885",
        "id": "5gm7PkHiDd5m",
        "colab_type": "code",
        "colab": {
          "base_uri": "https://localhost:8080/",
          "height": 68
        },
        "outputId": "55e280e2-4ba3-4725-9f61-fe22fe83946d"
      },
      "source": [
        "print('x_train shape:', x_train.shape)\n",
        "print(x_train.shape[0], 'train samples')\n",
        "print(x_test.shape[0], 'test samples')"
      ],
      "execution_count": 16,
      "outputs": [
        {
          "output_type": "stream",
          "text": [
            "x_train shape: (33600, 28, 28, 1)\n",
            "33600 train samples\n",
            "8400 test samples\n"
          ],
          "name": "stdout"
        }
      ]
    },
    {
      "cell_type": "code",
      "metadata": {
        "_uuid": "0d3579722bc7695bbc5e7d519560dcc4144c7cae",
        "id": "SW_GShFSDd5s",
        "colab_type": "code",
        "colab": {}
      },
      "source": [
        "y_train = keras.utils.to_categorical(y_train, num_classes)\n",
        "y_test = keras.utils.to_categorical(y_test, num_classes)"
      ],
      "execution_count": 0,
      "outputs": []
    },
    {
      "cell_type": "code",
      "metadata": {
        "_uuid": "bed1e9ed89e43575bdb9dedce63bfb007b17b434",
        "id": "UtsjmzyDDd5w",
        "colab_type": "code",
        "colab": {}
      },
      "source": [
        "model = Sequential()\n",
        "model.add(Conv2D(32, kernel_size=(3, 3),activation='relu',input_shape=(28, 28, 1)))"
      ],
      "execution_count": 0,
      "outputs": []
    },
    {
      "cell_type": "code",
      "metadata": {
        "_uuid": "f17056991bb0fb60d2a17e48e0f4a2d9708f1700",
        "id": "wQTETzQ9Dd50",
        "colab_type": "code",
        "colab": {}
      },
      "source": [
        "model.add(Conv2D(64, (3, 3), activation='relu'))\n",
        "model.add(MaxPooling2D(pool_size=(2, 2)))\n",
        "model.add(Dropout(0.2))\n",
        "model.add(Flatten())"
      ],
      "execution_count": 0,
      "outputs": []
    },
    {
      "cell_type": "code",
      "metadata": {
        "_uuid": "7affe677810030139c689738b0b8c70c667def53",
        "id": "HW6sLedlDd55",
        "colab_type": "code",
        "colab": {}
      },
      "source": [
        "model.add(Dense(256, activation='relu'))\n",
        "model.add(Dropout(0.21))\n",
        "model.add(Dense(num_classes, activation='relu'))"
      ],
      "execution_count": 0,
      "outputs": []
    },
    {
      "cell_type": "code",
      "metadata": {
        "_uuid": "e610cad7765cd9a03945e11a6c0707b5ca17e563",
        "id": "qlMr7xGEDd5-",
        "colab_type": "code",
        "colab": {}
      },
      "source": [
        "model.add(Dense(512, activation='relu'))\n",
        "model.add(Dropout(0.22))\n",
        "model.add(Dense(num_classes, activation='softmax'))"
      ],
      "execution_count": 0,
      "outputs": []
    },
    {
      "cell_type": "code",
      "metadata": {
        "_uuid": "1577f8a654847e62be84ff23fd4e3b73d0f41ea8",
        "id": "bk0p0LYcDd6D",
        "colab_type": "code",
        "colab": {}
      },
      "source": [
        "model.add(Dense(1024, activation='relu'))\n",
        "model.add(Dropout(0.25))\n",
        "model.add(Dense(num_classes, activation='relu'))"
      ],
      "execution_count": 0,
      "outputs": []
    },
    {
      "cell_type": "code",
      "metadata": {
        "_uuid": "430a0575b3cb185e470f5d5255f3cbc7c873a61c",
        "id": "M-h-CupqDd6I",
        "colab_type": "code",
        "colab": {}
      },
      "source": [
        "model.add(Dense(128, activation='relu'))\n",
        "model.add(Dropout(0.2))\n",
        "model.add(Dense(num_classes, activation='softmax'))"
      ],
      "execution_count": 0,
      "outputs": []
    },
    {
      "cell_type": "code",
      "metadata": {
        "_uuid": "4898bbf89a35b323bb00bd6df397a9fadd9ef842",
        "id": "N9MYzYMCDd6L",
        "colab_type": "code",
        "colab": {}
      },
      "source": [
        "model.compile(loss=keras.losses.categorical_crossentropy,\n",
        "              optimizer=keras.optimizers.Adam(),\n",
        "              metrics=['accuracy'])"
      ],
      "execution_count": 0,
      "outputs": []
    },
    {
      "cell_type": "code",
      "metadata": {
        "_uuid": "991647a3fd8c2ce55e3b76ed422d35d0bc0670fd",
        "scrolled": false,
        "id": "Ta8BUpQlDd6Q",
        "colab_type": "code",
        "colab": {
          "base_uri": "https://localhost:8080/",
          "height": 646
        },
        "outputId": "726e95ef-558a-4b3e-b465-219c95663353"
      },
      "source": [
        "history = model.fit(x_train, \n",
        "                    y_train,\n",
        "                    batch_size=batch_size,\n",
        "                    epochs=epochs,\n",
        "                    verbose=1,\n",
        "                    validation_data=(x_test, y_test))"
      ],
      "execution_count": 25,
      "outputs": [
        {
          "output_type": "stream",
          "text": [
            "Train on 33600 samples, validate on 8400 samples\n",
            "Epoch 1/18\n",
            "33600/33600 [==============================] - 117s 3ms/step - loss: 1.0804 - acc: 0.5317 - val_loss: 0.2352 - val_acc: 0.9488\n",
            "Epoch 2/18\n",
            "33600/33600 [==============================] - 115s 3ms/step - loss: 0.1779 - acc: 0.9565 - val_loss: 0.1185 - val_acc: 0.9743\n",
            "Epoch 3/18\n",
            "33600/33600 [==============================] - 116s 3ms/step - loss: 0.0962 - acc: 0.9775 - val_loss: 0.0640 - val_acc: 0.9836\n",
            "Epoch 4/18\n",
            "33600/33600 [==============================] - 115s 3ms/step - loss: 0.0699 - acc: 0.9829 - val_loss: 0.0745 - val_acc: 0.9827\n",
            "Epoch 5/18\n",
            "33600/33600 [==============================] - 115s 3ms/step - loss: 0.0573 - acc: 0.9860 - val_loss: 0.0775 - val_acc: 0.9836\n",
            "Epoch 6/18\n",
            "33600/33600 [==============================] - 116s 3ms/step - loss: 0.0489 - acc: 0.9881 - val_loss: 0.0827 - val_acc: 0.9811\n",
            "Epoch 7/18\n",
            "33600/33600 [==============================] - 114s 3ms/step - loss: 0.0437 - acc: 0.9892 - val_loss: 0.0675 - val_acc: 0.9848\n",
            "Epoch 8/18\n",
            "33600/33600 [==============================] - 115s 3ms/step - loss: 0.0382 - acc: 0.9903 - val_loss: 0.0618 - val_acc: 0.9873\n",
            "Epoch 9/18\n",
            "33600/33600 [==============================] - 115s 3ms/step - loss: 0.0335 - acc: 0.9923 - val_loss: 0.0753 - val_acc: 0.9829\n",
            "Epoch 10/18\n",
            "33600/33600 [==============================] - 114s 3ms/step - loss: 0.0291 - acc: 0.9930 - val_loss: 0.0773 - val_acc: 0.9839\n",
            "Epoch 11/18\n",
            "33600/33600 [==============================] - 115s 3ms/step - loss: 0.0284 - acc: 0.9932 - val_loss: 0.0611 - val_acc: 0.9876\n",
            "Epoch 12/18\n",
            "33600/33600 [==============================] - 114s 3ms/step - loss: 0.0271 - acc: 0.9935 - val_loss: 0.0606 - val_acc: 0.9867\n",
            "Epoch 13/18\n",
            "33600/33600 [==============================] - 114s 3ms/step - loss: 0.0245 - acc: 0.9943 - val_loss: 0.0567 - val_acc: 0.9879\n",
            "Epoch 14/18\n",
            "33600/33600 [==============================] - 115s 3ms/step - loss: 0.0247 - acc: 0.9943 - val_loss: 0.0472 - val_acc: 0.9905\n",
            "Epoch 15/18\n",
            "33600/33600 [==============================] - 114s 3ms/step - loss: 0.0240 - acc: 0.9942 - val_loss: 0.0590 - val_acc: 0.9880\n",
            "Epoch 16/18\n",
            "33600/33600 [==============================] - 115s 3ms/step - loss: 0.0221 - acc: 0.9950 - val_loss: 0.0498 - val_acc: 0.9896\n",
            "Epoch 17/18\n",
            "33600/33600 [==============================] - 115s 3ms/step - loss: 0.0224 - acc: 0.9949 - val_loss: 0.0651 - val_acc: 0.9868\n",
            "Epoch 18/18\n",
            "33600/33600 [==============================] - 115s 3ms/step - loss: 0.0201 - acc: 0.9954 - val_loss: 0.0490 - val_acc: 0.9890\n"
          ],
          "name": "stdout"
        }
      ]
    },
    {
      "cell_type": "code",
      "metadata": {
        "id": "FckwjTqxDd6V",
        "colab_type": "code",
        "colab": {
          "base_uri": "https://localhost:8080/",
          "height": 312
        },
        "outputId": "a3258b89-a929-4d60-e3b6-ac39b4cdc36c"
      },
      "source": [
        "plt.plot(history.history['acc'])\n",
        "plt.plot(history.history['val_acc'])\n",
        "plt.title('model acc')\n",
        "plt.ylabel('acc')\n",
        "plt.xlabel('epoch')\n",
        "plt.legend(['acc', 'val_acc'], loc='upper left')"
      ],
      "execution_count": 26,
      "outputs": [
        {
          "output_type": "execute_result",
          "data": {
            "text/plain": [
              "<matplotlib.legend.Legend at 0x7fe523e49c50>"
            ]
          },
          "metadata": {
            "tags": []
          },
          "execution_count": 26
        },
        {
          "output_type": "display_data",
          "data": {
            "image/png": "[encoded data removed]",
            "text/plain": [
              "<Figure size 432x288 with 1 Axes>"
            ]
          },
          "metadata": {
            "tags": []
          }
        }
      ]
    },
    {
      "cell_type": "code",
      "metadata": {
        "id": "YA-IdRG2Dd6b",
        "colab_type": "code",
        "colab": {
          "base_uri": "https://localhost:8080/",
          "height": 312
        },
        "outputId": "891afb5a-728e-4e15-89e7-0efc96b02fc7"
      },
      "source": [
        "plt.plot(history.history['loss'])\n",
        "plt.plot(history.history['val_loss'])\n",
        "plt.title('model acc')\n",
        "plt.ylabel('loss')\n",
        "plt.xlabel('epoch')\n",
        "plt.legend(['loss', 'val_loss'], loc='upper left')"
      ],
      "execution_count": 27,
      "outputs": [
        {
          "output_type": "execute_result",
          "data": {
            "text/plain": [
              "<matplotlib.legend.Legend at 0x7fe521565710>"
            ]
          },
          "metadata": {
            "tags": []
          },
          "execution_count": 27
        },
        {
          "output_type": "display_data",
          "data": {
            "image/png": "[encoded data removed]",
            "text/plain": [
              "<Figure size 432x288 with 1 Axes>"
            ]
          },
          "metadata": {
            "tags": []
          }
        }
      ]
    },
    {
      "cell_type": "code",
      "metadata": {
        "_uuid": "2142928f139f11857d0b5bc3056b1982fb20005f",
        "id": "yw0xlVP0Dd6h",
        "colab_type": "code",
        "colab": {}
      },
      "source": [
        "score = model.evaluate(x_test, y_test, verbose=0)"
      ],
      "execution_count": 0,
      "outputs": []
    },
    {
      "cell_type": "code",
      "metadata": {
        "_uuid": "139ab11b1dde2cf999559dcd30583c987cb6c1bf",
        "id": "HvHeXtN1Dd6l",
        "colab_type": "code",
        "colab": {}
      },
      "source": [
        "import numpy as np # linear algebra\n",
        "import pandas as pd # data processing, CSV file I/O (e.g. pd.read_csv)\n",
        "import matplotlib.pyplot as plt #for plotting\n",
        "from collections import Counter\n",
        "from sklearn.metrics import confusion_matrix\n",
        "import itertools\n",
        "import seaborn as sns\n",
        "from subprocess import check_output"
      ],
      "execution_count": 0,
      "outputs": []
    },
    {
      "cell_type": "code",
      "metadata": {
        "_uuid": "14aae9db22c0d41d3359583fd4b9fcc656113ade",
        "id": "FaRIiL5oDd6o",
        "colab_type": "code",
        "colab": {
          "base_uri": "https://localhost:8080/",
          "height": 311
        },
        "outputId": "421edfe8-c567-42be-9518-201aa00e7879"
      },
      "source": [
        "# Predict the values from the validation dataset\n",
        "Y_pred = model.predict(x_test)\n",
        "Y_pred_classes = np.argmax(Y_pred, axis = 1) \n",
        "Y_true = np.argmax(y_test, axis = 1) \n",
        "\n",
        "confusion_mtx = confusion_matrix(Y_true, Y_pred_classes) \n",
        "def plot_confusion_matrix(cm, classes,\n",
        "                          normalize=False,\n",
        "                          title='Confusion matrix',\n",
        "                          cmap=plt.cm.Blues):\n",
        "\n",
        "    plt.imshow(cm, interpolation='nearest', cmap=cmap)\n",
        "    plt.title(title)\n",
        "    plt.colorbar()\n",
        "    tick_marks = np.arange(len(classes))\n",
        "    plt.xticks(tick_marks, classes, rotation=45)\n",
        "    plt.yticks(tick_marks, classes)\n",
        "\n",
        "    if normalize:\n",
        "        cm = cm.astype('float') / cm.sum(axis=1)[:, np.newaxis]\n",
        "\n",
        "    thresh = cm.max() / 2.\n",
        "    for i, j in itertools.product(range(cm.shape[0]), range(cm.shape[1])):\n",
        "        plt.text(j, i, cm[i, j],\n",
        "                 horizontalalignment=\"center\",\n",
        "                 color=\"white\" if cm[i, j] > thresh else \"black\")\n",
        "\n",
        "    plt.tight_layout()\n",
        "    plt.ylabel('True label')\n",
        "    plt.xlabel('Predicted label')\n",
        "plot_confusion_matrix(confusion_mtx, classes = range(10))"
      ],
      "execution_count": 30,
      "outputs": [
        {
          "output_type": "display_data",
          "data": {
            "image/png": "[encoded data removed]",
            "text/plain": [
              "<Figure size 432x288 with 2 Axes>"
            ]
          },
          "metadata": {
            "tags": []
          }
        }
      ]
    },
    {
      "cell_type": "code",
      "metadata": {
        "_uuid": "2f4214a2d1577dd420f330f79151d06f02019cca",
        "id": "w0JK1Hf0Dd6s",
        "colab_type": "code",
        "colab": {}
      },
      "source": [
        "test = np.array(pd.read_csv(\"/content/test.csv\"))\n",
        "test_input = test.reshape(test.shape[0], 28, 28 , 1).astype('float32')\n",
        "Y_pred = model.predict(test_input)\n",
        "Y_pred_classes = np.argmax(Y_pred, axis = 1) \n",
        "\n",
        "submissions=pd.DataFrame({\"ImageId\": list(range(1,len(Y_pred_classes)+1)),\n",
        "                         \"Label\": Y_pred_classes})\n",
        "submissions.to_csv(\"/content/submissions.csv\", index=False, header=True)"
      ],
      "execution_count": 0,
      "outputs": []
    },
    {
      "cell_type": "code",
      "metadata": {
        "_uuid": "5e69d0e921e12073ab15f6e3e47de7fb6d469443",
        "id": "U6gAY7LDDd6w",
        "colab_type": "code",
        "colab": {}
      },
      "source": [
        "model.save('/content/model_1.h5')\n",
        "json_string = model.to_json()"
      ],
      "execution_count": 0,
      "outputs": []
    },
    {
      "cell_type": "code",
      "metadata": {
        "_uuid": "1f60fee8e444c514099d58707b658aed2a490aaa",
        "id": "pNpAw7_-Dd6z",
        "colab_type": "code",
        "colab": {
          "base_uri": "https://localhost:8080/",
          "height": 1969
        },
        "outputId": "22401916-55da-4940-fa77-77a94d2cb9ec"
      },
      "source": [
        "submissions"
      ],
      "execution_count": 33,
      "outputs": [
        {
          "output_type": "execute_result",
          "data": {
            "text/html": [
              "<div>\n",
              "<style scoped>\n",
              "    .dataframe tbody tr th:only-of-type {\n",
              "        vertical-align: middle;\n",
              "    }\n",
              "\n",
              "    .dataframe tbody tr th {\n",
              "        vertical-align: top;\n",
              "    }\n",
              "\n",
              "    .dataframe thead th {\n",
              "        text-align: right;\n",
              "    }\n",
              "</style>\n",
              "<table border=\"1\" class=\"dataframe\">\n",
              "  <thead>\n",
              "    <tr style=\"text-align: right;\">\n",
              "      <th></th>\n",
              "      <th>ImageId</th>\n",
              "      <th>Label</th>\n",
              "    </tr>\n",
              "  </thead>\n",
              "  <tbody>\n",
              "    <tr>\n",
              "      <th>0</th>\n",
              "      <td>1</td>\n",
              "      <td>2</td>\n",
              "    </tr>\n",
              "    <tr>\n",
              "      <th>1</th>\n",
              "      <td>2</td>\n",
              "      <td>0</td>\n",
              "    </tr>\n",
              "    <tr>\n",
              "      <th>2</th>\n",
              "      <td>3</td>\n",
              "      <td>9</td>\n",
              "    </tr>\n",
              "    <tr>\n",
              "      <th>3</th>\n",
              "      <td>4</td>\n",
              "      <td>0</td>\n",
              "    </tr>\n",
              "    <tr>\n",
              "      <th>4</th>\n",
              "      <td>5</td>\n",
              "      <td>3</td>\n",
              "    </tr>\n",
              "    <tr>\n",
              "      <th>5</th>\n",
              "      <td>6</td>\n",
              "      <td>1</td>\n",
              "    </tr>\n",
              "    <tr>\n",
              "      <th>6</th>\n",
              "      <td>7</td>\n",
              "      <td>0</td>\n",
              "    </tr>\n",
              "    <tr>\n",
              "      <th>7</th>\n",
              "      <td>8</td>\n",
              "      <td>3</td>\n",
              "    </tr>\n",
              "    <tr>\n",
              "      <th>8</th>\n",
              "      <td>9</td>\n",
              "      <td>0</td>\n",
              "    </tr>\n",
              "    <tr>\n",
              "      <th>9</th>\n",
              "      <td>10</td>\n",
              "      <td>3</td>\n",
              "    </tr>\n",
              "    <tr>\n",
              "      <th>10</th>\n",
              "      <td>11</td>\n",
              "      <td>6</td>\n",
              "    </tr>\n",
              "    <tr>\n",
              "      <th>11</th>\n",
              "      <td>12</td>\n",
              "      <td>1</td>\n",
              "    </tr>\n",
              "    <tr>\n",
              "      <th>12</th>\n",
              "      <td>13</td>\n",
              "      <td>4</td>\n",
              "    </tr>\n",
              "    <tr>\n",
              "      <th>13</th>\n",
              "      <td>14</td>\n",
              "      <td>0</td>\n",
              "    </tr>\n",
              "    <tr>\n",
              "      <th>14</th>\n",
              "      <td>15</td>\n",
              "      <td>4</td>\n",
              "    </tr>\n",
              "    <tr>\n",
              "      <th>15</th>\n",
              "      <td>16</td>\n",
              "      <td>3</td>\n",
              "    </tr>\n",
              "    <tr>\n",
              "      <th>16</th>\n",
              "      <td>17</td>\n",
              "      <td>3</td>\n",
              "    </tr>\n",
              "    <tr>\n",
              "      <th>17</th>\n",
              "      <td>18</td>\n",
              "      <td>1</td>\n",
              "    </tr>\n",
              "    <tr>\n",
              "      <th>18</th>\n",
              "      <td>19</td>\n",
              "      <td>9</td>\n",
              "    </tr>\n",
              "    <tr>\n",
              "      <th>19</th>\n",
              "      <td>20</td>\n",
              "      <td>0</td>\n",
              "    </tr>\n",
              "    <tr>\n",
              "      <th>20</th>\n",
              "      <td>21</td>\n",
              "      <td>9</td>\n",
              "    </tr>\n",
              "    <tr>\n",
              "      <th>21</th>\n",
              "      <td>22</td>\n",
              "      <td>1</td>\n",
              "    </tr>\n",
              "    <tr>\n",
              "      <th>22</th>\n",
              "      <td>23</td>\n",
              "      <td>1</td>\n",
              "    </tr>\n",
              "    <tr>\n",
              "      <th>23</th>\n",
              "      <td>24</td>\n",
              "      <td>6</td>\n",
              "    </tr>\n",
              "    <tr>\n",
              "      <th>24</th>\n",
              "      <td>25</td>\n",
              "      <td>1</td>\n",
              "    </tr>\n",
              "    <tr>\n",
              "      <th>25</th>\n",
              "      <td>26</td>\n",
              "      <td>4</td>\n",
              "    </tr>\n",
              "    <tr>\n",
              "      <th>26</th>\n",
              "      <td>27</td>\n",
              "      <td>2</td>\n",
              "    </tr>\n",
              "    <tr>\n",
              "      <th>27</th>\n",
              "      <td>28</td>\n",
              "      <td>1</td>\n",
              "    </tr>\n",
              "    <tr>\n",
              "      <th>28</th>\n",
              "      <td>29</td>\n",
              "      <td>4</td>\n",
              "    </tr>\n",
              "    <tr>\n",
              "      <th>29</th>\n",
              "      <td>30</td>\n",
              "      <td>1</td>\n",
              "    </tr>\n",
              "    <tr>\n",
              "      <th>...</th>\n",
              "      <td>...</td>\n",
              "      <td>...</td>\n",
              "    </tr>\n",
              "    <tr>\n",
              "      <th>27970</th>\n",
              "      <td>27971</td>\n",
              "      <td>6</td>\n",
              "    </tr>\n",
              "    <tr>\n",
              "      <th>27971</th>\n",
              "      <td>27972</td>\n",
              "      <td>0</td>\n",
              "    </tr>\n",
              "    <tr>\n",
              "      <th>27972</th>\n",
              "      <td>27973</td>\n",
              "      <td>4</td>\n",
              "    </tr>\n",
              "    <tr>\n",
              "      <th>27973</th>\n",
              "      <td>27974</td>\n",
              "      <td>8</td>\n",
              "    </tr>\n",
              "    <tr>\n",
              "      <th>27974</th>\n",
              "      <td>27975</td>\n",
              "      <td>0</td>\n",
              "    </tr>\n",
              "    <tr>\n",
              "      <th>27975</th>\n",
              "      <td>27976</td>\n",
              "      <td>3</td>\n",
              "    </tr>\n",
              "    <tr>\n",
              "      <th>27976</th>\n",
              "      <td>27977</td>\n",
              "      <td>6</td>\n",
              "    </tr>\n",
              "    <tr>\n",
              "      <th>27977</th>\n",
              "      <td>27978</td>\n",
              "      <td>0</td>\n",
              "    </tr>\n",
              "    <tr>\n",
              "      <th>27978</th>\n",
              "      <td>27979</td>\n",
              "      <td>1</td>\n",
              "    </tr>\n",
              "    <tr>\n",
              "      <th>27979</th>\n",
              "      <td>27980</td>\n",
              "      <td>9</td>\n",
              "    </tr>\n",
              "    <tr>\n",
              "      <th>27980</th>\n",
              "      <td>27981</td>\n",
              "      <td>3</td>\n",
              "    </tr>\n",
              "    <tr>\n",
              "      <th>27981</th>\n",
              "      <td>27982</td>\n",
              "      <td>1</td>\n",
              "    </tr>\n",
              "    <tr>\n",
              "      <th>27982</th>\n",
              "      <td>27983</td>\n",
              "      <td>1</td>\n",
              "    </tr>\n",
              "    <tr>\n",
              "      <th>27983</th>\n",
              "      <td>27984</td>\n",
              "      <td>0</td>\n",
              "    </tr>\n",
              "    <tr>\n",
              "      <th>27984</th>\n",
              "      <td>27985</td>\n",
              "      <td>4</td>\n",
              "    </tr>\n",
              "    <tr>\n",
              "      <th>27985</th>\n",
              "      <td>27986</td>\n",
              "      <td>6</td>\n",
              "    </tr>\n",
              "    <tr>\n",
              "      <th>27986</th>\n",
              "      <td>27987</td>\n",
              "      <td>2</td>\n",
              "    </tr>\n",
              "    <tr>\n",
              "      <th>27987</th>\n",
              "      <td>27988</td>\n",
              "      <td>2</td>\n",
              "    </tr>\n",
              "    <tr>\n",
              "      <th>27988</th>\n",
              "      <td>27989</td>\n",
              "      <td>9</td>\n",
              "    </tr>\n",
              "    <tr>\n",
              "      <th>27989</th>\n",
              "      <td>27990</td>\n",
              "      <td>6</td>\n",
              "    </tr>\n",
              "    <tr>\n",
              "      <th>27990</th>\n",
              "      <td>27991</td>\n",
              "      <td>1</td>\n",
              "    </tr>\n",
              "    <tr>\n",
              "      <th>27991</th>\n",
              "      <td>27992</td>\n",
              "      <td>6</td>\n",
              "    </tr>\n",
              "    <tr>\n",
              "      <th>27992</th>\n",
              "      <td>27993</td>\n",
              "      <td>1</td>\n",
              "    </tr>\n",
              "    <tr>\n",
              "      <th>27993</th>\n",
              "      <td>27994</td>\n",
              "      <td>9</td>\n",
              "    </tr>\n",
              "    <tr>\n",
              "      <th>27994</th>\n",
              "      <td>27995</td>\n",
              "      <td>1</td>\n",
              "    </tr>\n",
              "    <tr>\n",
              "      <th>27995</th>\n",
              "      <td>27996</td>\n",
              "      <td>9</td>\n",
              "    </tr>\n",
              "    <tr>\n",
              "      <th>27996</th>\n",
              "      <td>27997</td>\n",
              "      <td>1</td>\n",
              "    </tr>\n",
              "    <tr>\n",
              "      <th>27997</th>\n",
              "      <td>27998</td>\n",
              "      <td>3</td>\n",
              "    </tr>\n",
              "    <tr>\n",
              "      <th>27998</th>\n",
              "      <td>27999</td>\n",
              "      <td>9</td>\n",
              "    </tr>\n",
              "    <tr>\n",
              "      <th>27999</th>\n",
              "      <td>28000</td>\n",
              "      <td>2</td>\n",
              "    </tr>\n",
              "  </tbody>\n",
              "</table>\n",
              "<p>28000 rows × 2 columns</p>\n",
              "</div>"
            ],
            "text/plain": [
              "       ImageId  Label\n",
              "0            1      2\n",
              "1            2      0\n",
              "2            3      9\n",
              "3            4      0\n",
              "4            5      3\n",
              "5            6      1\n",
              "6            7      0\n",
              "7            8      3\n",
              "8            9      0\n",
              "9           10      3\n",
              "10          11      6\n",
              "11          12      1\n",
              "12          13      4\n",
              "13          14      0\n",
              "14          15      4\n",
              "15          16      3\n",
              "16          17      3\n",
              "17          18      1\n",
              "18          19      9\n",
              "19          20      0\n",
              "20          21      9\n",
              "21          22      1\n",
              "22          23      1\n",
              "23          24      6\n",
              "24          25      1\n",
              "25          26      4\n",
              "26          27      2\n",
              "27          28      1\n",
              "28          29      4\n",
              "29          30      1\n",
              "...        ...    ...\n",
              "27970    27971      6\n",
              "27971    27972      0\n",
              "27972    27973      4\n",
              "27973    27974      8\n",
              "27974    27975      0\n",
              "27975    27976      3\n",
              "27976    27977      6\n",
              "27977    27978      0\n",
              "27978    27979      1\n",
              "27979    27980      9\n",
              "27980    27981      3\n",
              "27981    27982      1\n",
              "27982    27983      1\n",
              "27983    27984      0\n",
              "27984    27985      4\n",
              "27985    27986      6\n",
              "27986    27987      2\n",
              "27987    27988      2\n",
              "27988    27989      9\n",
              "27989    27990      6\n",
              "27990    27991      1\n",
              "27991    27992      6\n",
              "27992    27993      1\n",
              "27993    27994      9\n",
              "27994    27995      1\n",
              "27995    27996      9\n",
              "27996    27997      1\n",
              "27997    27998      3\n",
              "27998    27999      9\n",
              "27999    28000      2\n",
              "\n",
              "[28000 rows x 2 columns]"
            ]
          },
          "metadata": {
            "tags": []
          },
          "execution_count": 33
        }
      ]
    }
  ]
}